{
 "cells": [
  {
   "cell_type": "markdown",
   "metadata": {},
   "source": [
    "# Using Reverse Recommendation in Vector Search\n",
    "\n",
    "For this blog, we will be classifying transactional data as normal and fraudulent. Dataset used in this blog can be downloaded from [here](https://www.kaggle.com/datasets/kartik2112/fraud-detection). "
   ]
  },
  {
   "cell_type": "code",
   "execution_count": 1,
   "metadata": {},
   "outputs": [],
   "source": [
    "import pandas as pd\n",
    "from matplotlib import pyplot as plt\n",
    "from os.path import join as pjoin"
   ]
  },
  {
   "cell_type": "code",
   "execution_count": 2,
   "metadata": {},
   "outputs": [],
   "source": [
    "root = '/home/quamer23nasim38/reverse-recommendation-for-anomaly-detection/'\n",
    "data_path = 'data/fraudTrain.csv'"
   ]
  },
  {
   "cell_type": "code",
   "execution_count": 3,
   "metadata": {},
   "outputs": [],
   "source": [
    "df = pd.read_csv(pjoin(root, data_path))"
   ]
  },
  {
   "cell_type": "markdown",
   "metadata": {},
   "source": [
    "Let's fist understand the dataset. We have a credit card transaction dataset containing the information about the transaction, the card holder, the merchant, and the location of the transaction. The dataset looks like this\n",
    "\n",
    "<img src=\"images/dfhead.png\" alt=\"dfhead\" width=\"1500\"/>\n",
    "\n",
    "Essentially, we have 5 types of major information  for a particular transaction: Customer Basic Information, Customer Residence Information, Merchant Information, Transaction Information, and Transaction Location Information."
   ]
  },
  {
   "cell_type": "code",
   "execution_count": 28,
   "metadata": {},
   "outputs": [
    {
     "data": {
      "text/plain": [
       "Text(1, 1299169, '99.42%')"
      ]
     },
     "execution_count": 28,
     "metadata": {},
     "output_type": "execute_result"
    },
    {
     "data": {
      "image/png": "[encoded data removed]",
      "text/plain": [
       "<Figure size 640x480 with 1 Axes>"
      ]
     },
     "metadata": {},
     "output_type": "display_data"
    }
   ],
   "source": [
    "fraud_vs_genuine = df.is_fraud.value_counts()\n",
    "fraud_counts = fraud_vs_genuine[1]\n",
    "genuine_counts = fraud_vs_genuine[0]\n",
    "plt.bar(['Fraud', 'Genuine'], [fraud_counts, genuine_counts])\n",
    "plt.text(0, fraud_counts+10000, f\"{round(fraud_counts/(fraud_counts+genuine_counts)*100, 2)}%\", ha='center')\n",
    "plt.text(1, genuine_counts+10000, f\"{round(genuine_counts/(fraud_counts+genuine_counts)*100, 2)}%\", ha='center')"
   ]
  },
  {
   "cell_type": "markdown",
   "metadata": {},
   "source": [
    "Here we can see that the number of fraud transactions is awfully low (0.58%) compared to the number of non-fraud transactions (99.42%). This is a highly imbalanced dataset, very common in fraud detection problems and very challenging to solve in a supervised learning context. This is why we will now build a anomaly detection system that will be able to detect frauds in this dataset."
   ]
  },
  {
   "cell_type": "code",
   "execution_count": null,
   "metadata": {},
   "outputs": [],
   "source": []
  }
 ],
 "metadata": {
  "kernelspec": {
   "display_name": "base",
   "language": "python",
   "name": "python3"
  },
  "language_info": {
   "codemirror_mode": {
    "name": "ipython",
    "version": 3
   },
   "file_extension": ".py",
   "mimetype": "text/x-python",
   "name": "python",
   "nbconvert_exporter": "python",
   "pygments_lexer": "ipython3",
   "version": "3.10.14"
  }
 },
 "nbformat": 4,
 "nbformat_minor": 2
}
