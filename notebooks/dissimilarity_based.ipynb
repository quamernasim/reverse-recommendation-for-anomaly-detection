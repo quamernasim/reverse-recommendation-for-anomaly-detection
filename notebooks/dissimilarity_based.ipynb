{
 "cells": [
  {
   "cell_type": "markdown",
   "metadata": {},
   "source": [
    "# Reverse Recommendation for Anomaly Detection with Qdrant\n",
    "Have you ever wondered how fraud detection systems spot suspicious transactions in a sea of normal ones? Let's try to understand how reverse recommendation can help us in finding fraudulent transactions. Detection of fraudulent transactions is very important to safeguard the interests of the customers. In this blog, I'll explain how we can use Qdrant to build a vector store of normal transactions and detect anomalies based on how \"off\" a transaction is from the usual patterns of the customer. We will build a fraud detection system that uses similarity search of Qdrant and checks how far away a new transaction is from the normal transactions in vector space. If the new transaction is far away from the normal transactions, then it is flagged as a fraudulent transaction. We also use a RAG based approach to not only detect the fraudulent transactions but also to explain why a transaction is flagged as fraudulent so that customer-support can take necessary actions. Let's understand how we can build this system in detail.\n",
    "\n",
    "Why use reverse recommendations for anomaly detection? Simple: they help spot outliers faster by comparing new transactions against a baseline of normal behavior. Using reverse recommendations we can find most dissimilar entries thereby helping us identify abnormal behavior of the data."
   ]
  },
  {
   "cell_type": "code",
   "execution_count": 1,
   "metadata": {},
   "outputs": [],
   "source": [
    "import sys\n",
    "sys.path.append('..')"
   ]
  },
  {
   "cell_type": "code",
   "execution_count": 2,
   "metadata": {},
   "outputs": [],
   "source": [
    "import time\n",
    "from tqdm import tqdm\n",
    "\n",
    "from utils import (\n",
    "    convert_transaction_data_to_str,\n",
    "    get_user_basic_info,\n",
    "    get_transactional_data,\n",
    "    embed_transaction,\n",
    "    insert_transaction,\n",
    "    get_as_close_transactions,\n",
    "    load_data,\n",
    "    detect_anomalies\n",
    ")"
   ]
  },
  {
   "cell_type": "markdown",
   "metadata": {},
   "source": [
    "Let's start by loading the transaction dataset for a particular user. load_data function loads the original dataset, gets 5 random users, and then extracts all the transactions for all 5 users. It also does some preprocessing like converting the dob to age, explicitly mentioning the gender of the user, combining the first and last names, and removing the 'fraud_' prefix in the merchant column. All these preprocessing steps are done to make the data more readable in human terms.\n",
    "\n",
    "Since each user has a different pattern of transactions, we will build a separate vector store for each user and find anomalies based on how far away a new transaction is from the normal transactions of that particular user. In this example, we're extracting transactions for 5 random users. You can extend this to all users in your dataset."
   ]
  },
  {
   "cell_type": "code",
   "execution_count": 3,
   "metadata": {},
   "outputs": [],
   "source": [
    "root = '/home/quamer23nasim38/reverse-recommendation-for-anomaly-detection/'\n",
    "data_path = 'data/fraudTrain.csv'"
   ]
  },
  {
   "cell_type": "code",
   "execution_count": 4,
   "metadata": {},
   "outputs": [
    {
     "name": "stderr",
     "output_type": "stream",
     "text": [
      "/home/quamer23nasim38/reverse-recommendation-for-anomaly-detection/notebooks/../utils.py:268: SettingWithCopyWarning: \n",
      "A value is trying to be set on a copy of a slice from a DataFrame.\n",
      "Try using .loc[row_indexer,col_indexer] = value instead\n",
      "\n",
      "See the caveats in the documentation: https://pandas.pydata.org/pandas-docs/stable/user_guide/indexing.html#returning-a-view-versus-a-copy\n",
      "  data['age'] = data['dob'].map(dob_to_age)\n",
      "/home/quamer23nasim38/reverse-recommendation-for-anomaly-detection/notebooks/../utils.py:271: SettingWithCopyWarning: \n",
      "A value is trying to be set on a copy of a slice from a DataFrame.\n",
      "Try using .loc[row_indexer,col_indexer] = value instead\n",
      "\n",
      "See the caveats in the documentation: https://pandas.pydata.org/pandas-docs/stable/user_guide/indexing.html#returning-a-view-versus-a-copy\n",
      "  data.gender = data.gender.replace({\n",
      "/home/quamer23nasim38/reverse-recommendation-for-anomaly-detection/notebooks/../utils.py:277: SettingWithCopyWarning: \n",
      "A value is trying to be set on a copy of a slice from a DataFrame.\n",
      "Try using .loc[row_indexer,col_indexer] = value instead\n",
      "\n",
      "See the caveats in the documentation: https://pandas.pydata.org/pandas-docs/stable/user_guide/indexing.html#returning-a-view-versus-a-copy\n",
      "  data['name'] = data['first'] + ' ' + data['last']\n",
      "/home/quamer23nasim38/reverse-recommendation-for-anomaly-detection/notebooks/../utils.py:280: SettingWithCopyWarning: \n",
      "A value is trying to be set on a copy of a slice from a DataFrame.\n",
      "Try using .loc[row_indexer,col_indexer] = value instead\n",
      "\n",
      "See the caveats in the documentation: https://pandas.pydata.org/pandas-docs/stable/user_guide/indexing.html#returning-a-view-versus-a-copy\n",
      "  data['merchant'] = data.merchant.str.replace('fraud_', '')\n"
     ]
    }
   ],
   "source": [
    "data, random_cc_num = load_data(root, data_path)"
   ]
  },
  {
   "cell_type": "markdown",
   "metadata": {},
   "source": [
    "Let's now load the embedding model that will be used later to convert the transaction data into vector embeddings."
   ]
  },
  {
   "cell_type": "code",
   "execution_count": 5,
   "metadata": {},
   "outputs": [
    {
     "name": "stdout",
     "output_type": "stream",
     "text": [
      "Model loaded successfully\n"
     ]
    }
   ],
   "source": [
    "from transformers import AutoTokenizer, AutoModel\n",
    "\n",
    "# Load the pre-trained model\n",
    "embedding_model_id = \"BAAI/bge-small-en\"\n",
    "tokenizer = AutoTokenizer.from_pretrained(embedding_model_id)\n",
    "model = AutoModel.from_pretrained(embedding_model_id)\n",
    "model.eval()\n",
    "print(\"Model loaded successfully\")"
   ]
  },
  {
   "cell_type": "markdown",
   "metadata": {},
   "source": [
    "We will be only storing the genuine transactions in the vector store. So we start by filtering out the genuine transactions from the dataset. For now we'll only create vector stores for just 1 user. You can extend this to all 5 extracted users by running everything in a loop."
   ]
  },
  {
   "cell_type": "code",
   "execution_count": 7,
   "metadata": {},
   "outputs": [
    {
     "name": "stdout",
     "output_type": "stream",
     "text": [
      "Customer Information Loaded Successfully for 213161869125933\n"
     ]
    }
   ],
   "source": [
    "for user in random_cc_num:\n",
    "    # Get the data for the user\n",
    "    user_data = data[data['cc_num'] == user]\n",
    "    # Filter out the fraud transactions\n",
    "    user_data = user_data[user_data['is_fraud'] == 0]\n",
    "    if user_data.shape[0]>1500:\n",
    "        # get the user data which has at most 1500 transactions.\n",
    "        # This can be changed to any number as per the requirement\n",
    "        break"
   ]
  },
  {
   "cell_type": "markdown",
   "metadata": {},
   "source": [
    "Let's now create a new collection in Qdrant to store the vector embeddings of the genuine transactions. In this blog we're storing the vector embeddings in memory, but you can also store them in a persistent storage."
   ]
  },
  {
   "cell_type": "code",
   "execution_count": null,
   "metadata": {},
   "outputs": [],
   "source": [
    "from qdrant_client import QdrantClient, models\n",
    "\n",
    "# Initialize in-memory Qdrant client\n",
    "client = QdrantClient(\":memory:\")\n",
    "\n",
    "# Create a collection in Qdrant for storing transaction embeddings\n",
    "client.create_collection(\n",
    "    collection_name=\"transactions\",\n",
    "    vectors_config=models.VectorParams(size=384, distance=models.Distance.COSINE)\n",
    ")"
   ]
  },
  {
   "cell_type": "markdown",
   "metadata": {},
   "source": [
    "Now we will convert the transaction data into a string format and then convert it into vector embeddings using the embedding model. We will then store these vector embeddings in the Qdrant collection. We are provided with the lat-long of the merchant and the payment address. We convert these lat-long into address using the reverse geocoding API. Getting right columns in this step is very important. In the transaction data we try to only have the columns that are important for the transaction such as the amount, merchant, payment address, and merchant address. All these information will be necessary to identify abnormal transactions from the normal pattern of the user. We do not add the customer information in the transaction data as it doesn't change with each transaction and having them will artificially increase the similarity between the transactions which is not desirable. Finally we convert the transaction description into embeddings using the embedding model and store it in the Qdrant collection."
   ]
  },
  {
   "cell_type": "code",
   "execution_count": 8,
   "metadata": {},
   "outputs": [
    {
     "name": "stderr",
     "output_type": "stream",
     "text": [
      " 13%|█▎        | 200/1549 [09:49<1:06:16,  2.95s/it]\n"
     ]
    }
   ],
   "source": [
    "for idx, (_, transaction) in tqdm(enumerate(user_data.iterrows()), total=len(user_data)):\n",
    "    # get the transactional information for a particular transaction\n",
    "    transaction_information, merchant_information, payment_address, merchant_address = get_transactional_data(transaction, convert_coordinates_to_address=True)\n",
    "    # convert the transaction information to string\n",
    "    transaction_description = convert_transaction_data_to_str(transaction_information, merchant_information, payment_address, merchant_address)\n",
    "    # embed the transaction description\n",
    "    embedding = embed_transaction(transaction_description, model, tokenizer)\n",
    "    embedding = embedding[0].tolist()\n",
    "    # upload the transaction embedding and data to the qdrant client\n",
    "    insert_transaction(embedding, transaction_description, idx, client)\n",
    "    time.sleep(1)\n",
    "\n",
    "    if idx == 200:\n",
    "        break"
   ]
  },
  {
   "cell_type": "markdown",
   "metadata": {},
   "source": [
    "Here we will test with a new transaction dataset that we created, we hope that our system will be able to detect this as a fraudulent transaction. We will convert the transaction data into vector embeddings and then search for the nearest neighbors in the Qdrant collection. We extract the top 10 similar transactions. The idea is that if the new transaction is far away from the normal transactions of the user in the vector space, then it is flagged as a fraudulent transaction. We check this distance based on the threshold value. Say if the mean expected transaction cosine similarity score is greater than 95% then we say that the transaction is genuine. But if the mean cosine similarity score is less than 95% then we say that the transaction is fraudulent. We can change this threshold value based on the business requirements."
   ]
  },
  {
   "cell_type": "code",
   "execution_count": 9,
   "metadata": {},
   "outputs": [],
   "source": [
    "new_transaction_info = '''\n",
    "420000.54\n",
    "-----------------------\n",
    "Rajesh, Kumar; savings_account\n",
    "-----------------------\n",
    "Chandini Chowk; Delhi; India; 20.0583; 16.008\n",
    "-----------------------\n",
    "Vietnaam; 20.152538; 16.227746\n",
    "'''"
   ]
  },
  {
   "cell_type": "code",
   "execution_count": 10,
   "metadata": {},
   "outputs": [],
   "source": [
    "# Embed the new transaction information\n",
    "new_embedding = embed_transaction(new_transaction_info, model, tokenizer)\n",
    "results = get_as_close_transactions(new_embedding, client)"
   ]
  },
  {
   "cell_type": "markdown",
   "metadata": {},
   "source": [
    "We can see that the mean similarity score of the genuine transactions with the new transaction is about 88%, but we want it to be greater than 95%. Hence we flag this transaction as fraudulent."
   ]
  },
  {
   "cell_type": "code",
   "execution_count": 12,
   "metadata": {},
   "outputs": [
    {
     "data": {
      "text/plain": [
       "[ScoredPoint(id=101, version=0, score=0.8875640384450292, payload={'transaction_data': '\\n5.19\\n-----------------------\\nSchumm PLC; shopping_net\\n-----------------------\\nUnited States; East Andover; US; 04216; East Andover; Oxford County; house; N; place; 216; Farmers Hill Road; house; Maine; 44.6084; -70.6993\\n-----------------------\\nN; United States; natural; US; peak; 03812; Sawyer Rock; locality; 44.073571; -71.313451\\n'}, vector=None, shard_key=None, order_value=None),\n",
       " ScoredPoint(id=53, version=0, score=0.886838667727958, payload={'transaction_data': '\\n63.57\\n-----------------------\\nKling Inc; gas_transport\\n-----------------------\\nUnited States; East Andover; US; 04216; East Andover; Oxford County; house; N; place; 216; Farmers Hill Road; house; Maine; 44.6084; -70.6993\\n-----------------------\\nUnited States; West Paris; US; 04289; Oxford County; house; N; place; 20; Littlehale Road; house; Maine; 44.369583; -70.512889\\n'}, vector=None, shard_key=None, order_value=None),\n",
       " ScoredPoint(id=81, version=0, score=0.8855560723189755, payload={'transaction_data': '\\n5.47\\n-----------------------\\nBednar PLC; kids_pets\\n-----------------------\\nUnited States; East Andover; US; 04216; East Andover; Oxford County; house; N; place; 216; Farmers Hill Road; house; Maine; 44.6084; -70.6993\\n-----------------------\\nW; Canada; place; 7; Saint-Malo; Route 206; CA; house_number; Coaticook; Quebec; house; 45.208804; -71.576038\\n'}, vector=None, shard_key=None, order_value=None),\n",
       " ScoredPoint(id=64, version=0, score=0.8848640571781761, payload={'transaction_data': '\\n52.27\\n-----------------------\\nKuhn Group; food_dining\\n-----------------------\\nUnited States; East Andover; US; 04216; East Andover; Oxford County; house; N; place; 216; Farmers Hill Road; house; Maine; 44.6084; -70.6993\\n-----------------------\\nUnited States; Solon; US; 04979; Rice Corner; Somerset County; house; N; place; 124; Rowell Mountain Road; house; Maine; 44.903009; -69.753279\\n'}, vector=None, shard_key=None, order_value=None),\n",
       " ScoredPoint(id=140, version=0, score=0.8846190935513204, payload={'transaction_data': '\\n3.56\\n-----------------------\\nGoyette Inc; shopping_net\\n-----------------------\\nUnited States; East Andover; US; 04216; East Andover; Oxford County; house; N; place; 216; Farmers Hill Road; house; Maine; 44.6084; -70.6993\\n-----------------------\\nW; United States; highway; Lynchtown Township; US; service; Nolting Camp Road; Oxford County; Maine; street; 45.08221; -71.029039\\n'}, vector=None, shard_key=None, order_value=None),\n",
       " ScoredPoint(id=15, version=0, score=0.8843568132791881, payload={'transaction_data': '\\n5.42\\n-----------------------\\nMetz-Boehm; shopping_pos\\n-----------------------\\nUnited States; East Andover; US; 04216; East Andover; Oxford County; house; N; place; 216; Farmers Hill Road; house; Maine; 44.6084; -70.6993\\n-----------------------\\n45.080255; -70.109976\\n'}, vector=None, shard_key=None, order_value=None),\n",
       " ScoredPoint(id=166, version=0, score=0.8833740903188559, payload={'transaction_data': '\\n80.64\\n-----------------------\\nParisian and Sons; gas_transport\\n-----------------------\\nUnited States; East Andover; US; 04216; East Andover; Oxford County; house; N; place; 216; Farmers Hill Road; house; Maine; 44.6084; -70.6993\\n-----------------------\\nUnited States; Oakland; US; 04963; Kennebec County; house; N; place; 33; Hussey Hill Road; house; Maine; 44.570083; -69.71757\\n'}, vector=None, shard_key=None, order_value=None),\n",
       " ScoredPoint(id=143, version=0, score=0.8826050347415799, payload={'transaction_data': '\\n188.91\\n-----------------------\\nMohr-Bayer; shopping_net\\n-----------------------\\nUnited States; East Andover; US; 04216; East Andover; Oxford County; house; N; place; 216; Farmers Hill Road; house; Maine; 44.6084; -70.6993\\n-----------------------\\nUnited States; Windham; US; 04062; North Windham; Cumberland County; house; N; place; 11; Pemberly Drive; house; Maine; 43.822446; -70.41765\\n'}, vector=None, shard_key=None, order_value=None),\n",
       " ScoredPoint(id=10, version=0, score=0.8825860853718734, payload={'transaction_data': '\\n21.33\\n-----------------------\\nKassulke PLC; shopping_net\\n-----------------------\\nUnited States; East Andover; US; 04216; East Andover; Oxford County; house; N; place; 216; Farmers Hill Road; house; Maine; 44.6084; -70.6993\\n-----------------------\\nUnited States; Madison; US; 04950; East Madison; Somerset County; house; N; place; 1342; East Madison Road; house; Maine; 44.871309; -69.757225\\n'}, vector=None, shard_key=None, order_value=None),\n",
       " ScoredPoint(id=99, version=0, score=0.8825695363519213, payload={'transaction_data': '\\n3.54\\n-----------------------\\nBotsford Ltd; shopping_pos\\n-----------------------\\nUnited States; East Andover; US; 04216; East Andover; Oxford County; house; N; place; 216; Farmers Hill Road; house; Maine; 44.6084; -70.6993\\n-----------------------\\nUnited States; Solon; US; 04950; Barron Corner; Somerset County; house; N; place; 21; River Road; house; Maine; 44.823614; -69.843461\\n'}, vector=None, shard_key=None, order_value=None)]"
      ]
     },
     "execution_count": 12,
     "metadata": {},
     "output_type": "execute_result"
    }
   ],
   "source": [
    "results"
   ]
  },
  {
   "cell_type": "code",
   "execution_count": 11,
   "metadata": {},
   "outputs": [
    {
     "name": "stdout",
     "output_type": "stream",
     "text": [
      "The new transaction is fraudulent\n"
     ]
    }
   ],
   "source": [
    "if detect_anomalies(results):\n",
    "    print(\"The new transaction is fraudulent\")\n",
    "else:\n",
    "    print(\"The new transaction is genuine\")"
   ]
  },
  {
   "cell_type": "markdown",
   "metadata": {},
   "source": [
    "That's great, our system was able to detect the fraudulent transaction. But how do we explain why this transaction was flagged as fraudulent? In the next section, we will explain how we can use the RAG based approach to not only detect the fraudulent transactions but also to explain why a transaction is flagged as fraudulent so that customer-support can take necessary actions."
   ]
  },
  {
   "cell_type": "code",
   "execution_count": null,
   "metadata": {},
   "outputs": [],
   "source": []
  }
 ],
 "metadata": {
  "kernelspec": {
   "display_name": "base",
   "language": "python",
   "name": "python3"
  },
  "language_info": {
   "codemirror_mode": {
    "name": "ipython",
    "version": 3
   },
   "file_extension": ".py",
   "mimetype": "text/x-python",
   "name": "python",
   "nbconvert_exporter": "python",
   "pygments_lexer": "ipython3",
   "version": "3.10.14"
  }
 },
 "nbformat": 4,
 "nbformat_minor": 2
}
